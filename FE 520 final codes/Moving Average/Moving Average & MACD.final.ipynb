{
 "cells": [
  {
   "cell_type": "code",
   "execution_count": 3,
   "id": "b21424c6",
   "metadata": {},
   "outputs": [],
   "source": [
    "import yfinance as yf\n",
    "import numpy as np\n",
    "import pandas as pd\n",
    "import pandas_datareader as pdr\n",
    "import matplotlib.pyplot as plt\n",
    "\n",
    "#Datetime package\n",
    "from datetime import date"
   ]
  },
  {
   "cell_type": "code",
   "execution_count": 4,
   "id": "d29d7eb9",
   "metadata": {},
   "outputs": [],
   "source": [
    "start = pd.to_datetime('2020-01-01') #set start day-time\n",
    "end = pd.to_datetime('2021-01-01') #set end day-time"
   ]
  },
  {
   "cell_type": "code",
   "execution_count": 5,
   "id": "414e2a2d",
   "metadata": {},
   "outputs": [],
   "source": [
    "ticker = ['NFLX'] #choose the stock"
   ]
  },
  {
   "cell_type": "code",
   "execution_count": 6,
   "id": "a6e10ad1",
   "metadata": {},
   "outputs": [
    {
     "name": "stdout",
     "output_type": "stream",
     "text": [
      "[*********************100%***********************]  1 of 1 completed\n",
      "            day        Open        High         Low       Close\n",
      "Date                                                           \n",
      "2020-01-02    1  326.100006  329.980011  324.779999  329.809998\n",
      "2020-01-03    2  326.779999  329.859985  325.529999  325.899994\n",
      "2020-01-06    3  323.119995  336.359985  321.200012  335.829987\n",
      "2020-01-07    4  336.470001  336.700012  330.299988  330.750000\n",
      "2020-01-08    5  331.489990  342.700012  331.049988  339.260010\n",
      "...         ...         ...         ...         ...         ...\n",
      "2020-12-24  249  515.119995  519.349976  512.210022  513.969971\n",
      "2020-12-28  250  516.429993  523.659973  507.130005  519.119995\n",
      "2020-12-29  251  519.900024  536.549988  515.479980  530.869995\n",
      "2020-12-30  252  530.130005  533.260010  523.690002  524.590027\n",
      "2020-12-31  253  525.530029  545.500000  523.150024  540.729980\n",
      "\n",
      "[253 rows x 5 columns]\n"
     ]
    }
   ],
   "source": [
    "NT=yf.download(ticker,start=start, end=end) # get the stock data\n",
    "\n",
    "\n",
    "\n",
    "day = np.arange(1, len(NT) + 1) #day to get the day time\n",
    "NT['day'] = day # get the dataframe\n",
    "NT.drop(columns=['Adj Close', 'Volume'], inplace = True) #drop the useless data\n",
    "NT = NT[['day', 'Open', 'High', 'Low', 'Close']] #set the day,open,high,low,close\n",
    "print(NT) #print the data\n"
   ]
  },
  {
   "cell_type": "code",
   "execution_count": 7,
   "id": "a410bb19",
   "metadata": {},
   "outputs": [
    {
     "name": "stderr",
     "output_type": "stream",
     "text": [
      "/var/folders/83/wyld6rbs37jg06dnrv50h1sh0000gn/T/ipykernel_13165/727068757.py:1: SettingWithCopyWarning: \n",
      "A value is trying to be set on a copy of a slice from a DataFrame.\n",
      "Try using .loc[row_indexer,col_indexer] = value instead\n",
      "\n",
      "See the caveats in the documentation: https://pandas.pydata.org/pandas-docs/stable/user_guide/indexing.html#returning-a-view-versus-a-copy\n",
      "  NT['5-day'] = NT['Close'].rolling(5).mean() #get the rolling5 as short line\n",
      "/var/folders/83/wyld6rbs37jg06dnrv50h1sh0000gn/T/ipykernel_13165/727068757.py:2: SettingWithCopyWarning: \n",
      "A value is trying to be set on a copy of a slice from a DataFrame.\n",
      "Try using .loc[row_indexer,col_indexer] = value instead\n",
      "\n",
      "See the caveats in the documentation: https://pandas.pydata.org/pandas-docs/stable/user_guide/indexing.html#returning-a-view-versus-a-copy\n",
      "  NT['10-day'] = NT['Close'].rolling(10).mean() #get the rolling10 as long line\n"
     ]
    },
    {
     "data": {
      "text/html": [
       "<div>\n",
       "<style scoped>\n",
       "    .dataframe tbody tr th:only-of-type {\n",
       "        vertical-align: middle;\n",
       "    }\n",
       "\n",
       "    .dataframe tbody tr th {\n",
       "        vertical-align: top;\n",
       "    }\n",
       "\n",
       "    .dataframe thead th {\n",
       "        text-align: right;\n",
       "    }\n",
       "</style>\n",
       "<table border=\"1\" class=\"dataframe\">\n",
       "  <thead>\n",
       "    <tr style=\"text-align: right;\">\n",
       "      <th></th>\n",
       "      <th>day</th>\n",
       "      <th>Open</th>\n",
       "      <th>High</th>\n",
       "      <th>Low</th>\n",
       "      <th>Close</th>\n",
       "      <th>5-day</th>\n",
       "      <th>10-day</th>\n",
       "    </tr>\n",
       "    <tr>\n",
       "      <th>Date</th>\n",
       "      <th></th>\n",
       "      <th></th>\n",
       "      <th></th>\n",
       "      <th></th>\n",
       "      <th></th>\n",
       "      <th></th>\n",
       "      <th></th>\n",
       "    </tr>\n",
       "  </thead>\n",
       "  <tbody>\n",
       "    <tr>\n",
       "      <th>2020-01-02</th>\n",
       "      <td>1</td>\n",
       "      <td>326.100006</td>\n",
       "      <td>329.980011</td>\n",
       "      <td>324.779999</td>\n",
       "      <td>329.809998</td>\n",
       "      <td>NaN</td>\n",
       "      <td>NaN</td>\n",
       "    </tr>\n",
       "    <tr>\n",
       "      <th>2020-01-03</th>\n",
       "      <td>2</td>\n",
       "      <td>326.779999</td>\n",
       "      <td>329.859985</td>\n",
       "      <td>325.529999</td>\n",
       "      <td>325.899994</td>\n",
       "      <td>NaN</td>\n",
       "      <td>NaN</td>\n",
       "    </tr>\n",
       "    <tr>\n",
       "      <th>2020-01-06</th>\n",
       "      <td>3</td>\n",
       "      <td>323.119995</td>\n",
       "      <td>336.359985</td>\n",
       "      <td>321.200012</td>\n",
       "      <td>335.829987</td>\n",
       "      <td>NaN</td>\n",
       "      <td>NaN</td>\n",
       "    </tr>\n",
       "    <tr>\n",
       "      <th>2020-01-07</th>\n",
       "      <td>4</td>\n",
       "      <td>336.470001</td>\n",
       "      <td>336.700012</td>\n",
       "      <td>330.299988</td>\n",
       "      <td>330.750000</td>\n",
       "      <td>NaN</td>\n",
       "      <td>NaN</td>\n",
       "    </tr>\n",
       "    <tr>\n",
       "      <th>2020-01-08</th>\n",
       "      <td>5</td>\n",
       "      <td>331.489990</td>\n",
       "      <td>342.700012</td>\n",
       "      <td>331.049988</td>\n",
       "      <td>339.260010</td>\n",
       "      <td>332.309998</td>\n",
       "      <td>NaN</td>\n",
       "    </tr>\n",
       "  </tbody>\n",
       "</table>\n",
       "</div>"
      ],
      "text/plain": [
       "            day        Open        High         Low       Close       5-day  \\\n",
       "Date                                                                          \n",
       "2020-01-02    1  326.100006  329.980011  324.779999  329.809998         NaN   \n",
       "2020-01-03    2  326.779999  329.859985  325.529999  325.899994         NaN   \n",
       "2020-01-06    3  323.119995  336.359985  321.200012  335.829987         NaN   \n",
       "2020-01-07    4  336.470001  336.700012  330.299988  330.750000         NaN   \n",
       "2020-01-08    5  331.489990  342.700012  331.049988  339.260010  332.309998   \n",
       "\n",
       "            10-day  \n",
       "Date                \n",
       "2020-01-02     NaN  \n",
       "2020-01-03     NaN  \n",
       "2020-01-06     NaN  \n",
       "2020-01-07     NaN  \n",
       "2020-01-08     NaN  "
      ]
     },
     "execution_count": 7,
     "metadata": {},
     "output_type": "execute_result"
    }
   ],
   "source": [
    "NT['5-day'] = NT['Close'].rolling(5).mean() #get the rolling5 as short line\n",
    "NT['10-day'] = NT['Close'].rolling(10).mean() #get the rolling10 as long line\n",
    "NT.head()\n"
   ]
  },
  {
   "cell_type": "code",
   "execution_count": 8,
   "id": "f29cd598",
   "metadata": {},
   "outputs": [
    {
     "name": "stderr",
     "output_type": "stream",
     "text": [
      "/var/folders/83/wyld6rbs37jg06dnrv50h1sh0000gn/T/ipykernel_13165/312035067.py:1: SettingWithCopyWarning: \n",
      "A value is trying to be set on a copy of a slice from a DataFrame.\n",
      "Try using .loc[row_indexer,col_indexer] = value instead\n",
      "\n",
      "See the caveats in the documentation: https://pandas.pydata.org/pandas-docs/stable/user_guide/indexing.html#returning-a-view-versus-a-copy\n",
      "  NT['signal'] = np.where(NT['5-day'] > NT['10-day'], 1, 0) #if short>long set 1 else 0\n",
      "/var/folders/83/wyld6rbs37jg06dnrv50h1sh0000gn/T/ipykernel_13165/312035067.py:2: SettingWithCopyWarning: \n",
      "A value is trying to be set on a copy of a slice from a DataFrame.\n",
      "Try using .loc[row_indexer,col_indexer] = value instead\n",
      "\n",
      "See the caveats in the documentation: https://pandas.pydata.org/pandas-docs/stable/user_guide/indexing.html#returning-a-view-versus-a-copy\n",
      "  NT['signal'] = np.where(NT['5-day'] < NT['10-day'], -1, NT['signal']) #if short< long set -1 else signal\n",
      "/Users/rz/opt/anaconda3/lib/python3.9/site-packages/pandas/util/_decorators.py:311: SettingWithCopyWarning: \n",
      "A value is trying to be set on a copy of a slice from a DataFrame\n",
      "\n",
      "See the caveats in the documentation: https://pandas.pydata.org/pandas-docs/stable/user_guide/indexing.html#returning-a-view-versus-a-copy\n",
      "  return func(*args, **kwargs)\n"
     ]
    },
    {
     "data": {
      "text/html": [
       "<div>\n",
       "<style scoped>\n",
       "    .dataframe tbody tr th:only-of-type {\n",
       "        vertical-align: middle;\n",
       "    }\n",
       "\n",
       "    .dataframe tbody tr th {\n",
       "        vertical-align: top;\n",
       "    }\n",
       "\n",
       "    .dataframe thead th {\n",
       "        text-align: right;\n",
       "    }\n",
       "</style>\n",
       "<table border=\"1\" class=\"dataframe\">\n",
       "  <thead>\n",
       "    <tr style=\"text-align: right;\">\n",
       "      <th></th>\n",
       "      <th>day</th>\n",
       "      <th>Open</th>\n",
       "      <th>High</th>\n",
       "      <th>Low</th>\n",
       "      <th>Close</th>\n",
       "      <th>5-day</th>\n",
       "      <th>10-day</th>\n",
       "      <th>signal</th>\n",
       "    </tr>\n",
       "    <tr>\n",
       "      <th>Date</th>\n",
       "      <th></th>\n",
       "      <th></th>\n",
       "      <th></th>\n",
       "      <th></th>\n",
       "      <th></th>\n",
       "      <th></th>\n",
       "      <th></th>\n",
       "      <th></th>\n",
       "    </tr>\n",
       "  </thead>\n",
       "  <tbody>\n",
       "    <tr>\n",
       "      <th>2020-01-15</th>\n",
       "      <td>10</td>\n",
       "      <td>338.679993</td>\n",
       "      <td>343.170013</td>\n",
       "      <td>336.600006</td>\n",
       "      <td>339.070007</td>\n",
       "      <td>336.278003</td>\n",
       "      <td>334.294000</td>\n",
       "      <td>1</td>\n",
       "    </tr>\n",
       "    <tr>\n",
       "      <th>2020-01-16</th>\n",
       "      <td>11</td>\n",
       "      <td>343.500000</td>\n",
       "      <td>343.559998</td>\n",
       "      <td>335.850006</td>\n",
       "      <td>338.619995</td>\n",
       "      <td>336.870001</td>\n",
       "      <td>335.175000</td>\n",
       "      <td>1</td>\n",
       "    </tr>\n",
       "    <tr>\n",
       "      <th>2020-01-17</th>\n",
       "      <td>12</td>\n",
       "      <td>341.000000</td>\n",
       "      <td>341.570007</td>\n",
       "      <td>337.380005</td>\n",
       "      <td>339.670013</td>\n",
       "      <td>338.994006</td>\n",
       "      <td>336.552002</td>\n",
       "      <td>1</td>\n",
       "    </tr>\n",
       "    <tr>\n",
       "      <th>2020-01-21</th>\n",
       "      <td>13</td>\n",
       "      <td>340.000000</td>\n",
       "      <td>341.000000</td>\n",
       "      <td>332.589996</td>\n",
       "      <td>338.109985</td>\n",
       "      <td>338.832001</td>\n",
       "      <td>336.780002</td>\n",
       "      <td>1</td>\n",
       "    </tr>\n",
       "    <tr>\n",
       "      <th>2020-01-22</th>\n",
       "      <td>14</td>\n",
       "      <td>332.549988</td>\n",
       "      <td>336.299988</td>\n",
       "      <td>323.600006</td>\n",
       "      <td>326.000000</td>\n",
       "      <td>336.294000</td>\n",
       "      <td>336.305002</td>\n",
       "      <td>-1</td>\n",
       "    </tr>\n",
       "  </tbody>\n",
       "</table>\n",
       "</div>"
      ],
      "text/plain": [
       "            day        Open        High         Low       Close       5-day  \\\n",
       "Date                                                                          \n",
       "2020-01-15   10  338.679993  343.170013  336.600006  339.070007  336.278003   \n",
       "2020-01-16   11  343.500000  343.559998  335.850006  338.619995  336.870001   \n",
       "2020-01-17   12  341.000000  341.570007  337.380005  339.670013  338.994006   \n",
       "2020-01-21   13  340.000000  341.000000  332.589996  338.109985  338.832001   \n",
       "2020-01-22   14  332.549988  336.299988  323.600006  326.000000  336.294000   \n",
       "\n",
       "                10-day  signal  \n",
       "Date                            \n",
       "2020-01-15  334.294000       1  \n",
       "2020-01-16  335.175000       1  \n",
       "2020-01-17  336.552002       1  \n",
       "2020-01-21  336.780002       1  \n",
       "2020-01-22  336.305002      -1  "
      ]
     },
     "execution_count": 8,
     "metadata": {},
     "output_type": "execute_result"
    }
   ],
   "source": [
    "\n",
    "NT['signal'] = np.where(NT['5-day'] > NT['10-day'], 1, 0) #if short>long set 1 else 0 （golden fork buy）\n",
    "NT['signal'] = np.where(NT['5-day'] < NT['10-day'], -1, NT['signal']) #if short< long set -1 else signal（dead fork）\n",
    "NT.dropna(inplace=True) #drop the NA data (we could change the value)\n",
    "NT.head()"
   ]
  },
  {
   "cell_type": "code",
   "execution_count": 9,
   "id": "5aaa9e06",
   "metadata": {},
   "outputs": [
    {
     "name": "stderr",
     "output_type": "stream",
     "text": [
      "/var/folders/83/wyld6rbs37jg06dnrv50h1sh0000gn/T/ipykernel_13165/3836730340.py:1: SettingWithCopyWarning: \n",
      "A value is trying to be set on a copy of a slice from a DataFrame.\n",
      "Try using .loc[row_indexer,col_indexer] = value instead\n",
      "\n",
      "See the caveats in the documentation: https://pandas.pydata.org/pandas-docs/stable/user_guide/indexing.html#returning-a-view-versus-a-copy\n",
      "  NT['return'] = np.log(NT['Close']).diff()#find the first discrete difference of objects over the given axis\n",
      "/var/folders/83/wyld6rbs37jg06dnrv50h1sh0000gn/T/ipykernel_13165/3836730340.py:2: SettingWithCopyWarning: \n",
      "A value is trying to be set on a copy of a slice from a DataFrame.\n",
      "Try using .loc[row_indexer,col_indexer] = value instead\n",
      "\n",
      "See the caveats in the documentation: https://pandas.pydata.org/pandas-docs/stable/user_guide/indexing.html#returning-a-view-versus-a-copy\n",
      "  NT['system_return'] = NT['signal'] * NT['return'] #get the system return with signal*return\n",
      "/var/folders/83/wyld6rbs37jg06dnrv50h1sh0000gn/T/ipykernel_13165/3836730340.py:3: SettingWithCopyWarning: \n",
      "A value is trying to be set on a copy of a slice from a DataFrame.\n",
      "Try using .loc[row_indexer,col_indexer] = value instead\n",
      "\n",
      "See the caveats in the documentation: https://pandas.pydata.org/pandas-docs/stable/user_guide/indexing.html#returning-a-view-versus-a-copy\n",
      "  NT['entry'] = NT.signal.diff() #set different number as entry\n"
     ]
    }
   ],
   "source": [
    "NT['return'] = np.log(NT['Close']).diff()#find the first discrete difference of objects over the given axis\n",
    "NT['system_return'] = NT['signal'] * NT['return'] #get the system return with signal*return\n",
    "NT['entry'] = NT.signal.diff() #set different number as entry\n",
    "NT.to_csv('NT_data.csv') #to csv"
   ]
  },
  {
   "cell_type": "code",
   "execution_count": 10,
   "id": "b843ca0c",
   "metadata": {},
   "outputs": [
    {
     "data": {
      "image/png": "[encoded data removed]",
      "text/plain": [
       "<Figure size 864x432 with 1 Axes>"
      ]
     },
     "metadata": {
      "needs_background": "light"
     },
     "output_type": "display_data"
    }
   ],
   "source": [
    "plt.rcParams['figure.figsize'] = 12, 6 #set the figure size\n",
    "plt.grid(True, alpha = .3) #set the grid with clarity 0.3\n",
    "plt.plot(NT.iloc[-252:]['Close'], label = 'NT')  #get NT stock index 252 days\n",
    "plt.plot(NT.iloc[-252:]['5-day'], label = '5-day') #plot short\n",
    "plt.plot(NT.iloc[-252:]['10-day'], label = '10-day') #plot long\n",
    "plt.plot(NT[-252:].loc[NT.entry == 2].index, NT[-252:]['5-day'][NT.entry == 2], '^',\n",
    "         color = 'g', markersize = 10) #set the color green buy:entry==2\n",
    "plt.plot(NT[-252:].loc[NT.entry == -2].index, NT[-252:]['10-day'][NT.entry == -2], 'v',\n",
    "         color = 'r', markersize = 10) #set the color red sell entry==-2\n",
    "plt.legend(loc=2);#Place a legend on the Axes\n"
   ]
  },
  {
   "cell_type": "code",
   "execution_count": 11,
   "id": "5a623059",
   "metadata": {},
   "outputs": [
    {
     "data": {
      "image/png": "[encoded data removed]",
      "text/plain": [
       "<Figure size 864x432 with 1 Axes>"
      ]
     },
     "metadata": {
      "needs_background": "light"
     },
     "output_type": "display_data"
    }
   ],
   "source": [
    "\n",
    "plt.plot(np.exp(NT['return']).cumprod(), label='Buy/Hold') #calculate the normal stock return \n",
    "plt.plot(np.exp(NT['system_return']).cumprod(), label='System') #calculate the MA strategy return\n",
    "plt.legend(loc=2)\n",
    "plt.grid(True, alpha=.3)\n"
   ]
  },
  {
   "cell_type": "code",
   "execution_count": 12,
   "id": "8573974c",
   "metadata": {},
   "outputs": [
    {
     "data": {
      "text/plain": [
       "0.5947443559987391"
      ]
     },
     "execution_count": 12,
     "metadata": {},
     "output_type": "execute_result"
    }
   ],
   "source": [
    "#return\n",
    "np.exp(NT['return']).cumprod()[-1] -1 #get the return"
   ]
  },
  {
   "cell_type": "code",
   "execution_count": 13,
   "id": "6c37fbfb",
   "metadata": {},
   "outputs": [
    {
     "data": {
      "text/plain": [
       "1.5214498424481913"
      ]
     },
     "execution_count": 13,
     "metadata": {},
     "output_type": "execute_result"
    }
   ],
   "source": [
    "#MA return\n",
    "np.exp(NT['system_return']).cumprod()[-1] -1 #get the MA return"
   ]
  },
  {
   "cell_type": "code",
   "execution_count": 14,
   "id": "da2635d2",
   "metadata": {},
   "outputs": [
    {
     "name": "stdout",
     "output_type": "stream",
     "text": [
      "Date\n",
      "2020-01-15         NaN\n",
      "2020-01-16   -0.001328\n",
      "2020-01-17    0.003096\n",
      "2020-01-21   -0.004603\n",
      "2020-01-22    0.036474\n",
      "                ...   \n",
      "2020-12-24   -0.000992\n",
      "2020-12-28   -0.009970\n",
      "2020-12-29   -0.022382\n",
      "2020-12-30    0.011900\n",
      "2020-12-31   -0.030303\n",
      "Name: system_return, Length: 244, dtype: float64\n"
     ]
    }
   ],
   "source": [
    "print(NT['system_return']) "
   ]
  },
  {
   "cell_type": "code",
   "execution_count": 15,
   "id": "1f6d0d58",
   "metadata": {},
   "outputs": [],
   "source": [
    "import pandas as pd\n",
    "import numpy as np\n",
    "from pandas import DataFrame\n",
    "from pandas import Series\n",
    "df=DataFrame(NT['system_return'])\n",
    "dfreturn=DataFrame(NT['return'])\n",
    "df.to_csv('df_data.csv')\n",
    "dfreturn.to_csv('dfreturn.csv') #in to csv"
   ]
  },
  {
   "cell_type": "code",
   "execution_count": 16,
   "id": "84f23cd4",
   "metadata": {},
   "outputs": [
    {
     "name": "stdout",
     "output_type": "stream",
     "text": [
      "1     -0.001328\n",
      "2      0.003096\n",
      "3     -0.004603\n",
      "4      0.036474\n",
      "5      0.069892\n",
      "         ...   \n",
      "239   -0.000992\n",
      "240   -0.009970\n",
      "241   -0.022382\n",
      "242    0.011900\n",
      "243   -0.030303\n",
      "Name: system_return, Length: 243, dtype: float64\n"
     ]
    },
    {
     "data": {
      "text/plain": [
       "0           NaN\n",
       "1     -0.001328\n",
       "2      0.003096\n",
       "3     -0.004603\n",
       "4     -0.036474\n",
       "         ...   \n",
       "239   -0.000992\n",
       "240    0.009970\n",
       "241    0.022382\n",
       "242   -0.011900\n",
       "243    0.030303\n",
       "Name: return, Length: 244, dtype: float64"
      ]
     },
     "execution_count": 16,
     "metadata": {},
     "output_type": "execute_result"
    }
   ],
   "source": [
    "df2=pd.read_csv('df_data.csv')\n",
    "df2\n",
    "df3=df2['system_return']\n",
    "df3=df3.dropna()\n",
    "df3\n",
    "\n",
    "print(df3)\n",
    "dfreturn=pd.read_csv('dfreturn.csv')\n",
    "dfreturn=dfreturn['return']\n",
    "dfreturn"
   ]
  },
  {
   "cell_type": "code",
   "execution_count": 19,
   "id": "36142d02",
   "metadata": {},
   "outputs": [],
   "source": [
    "#manage the data"
   ]
  },
  {
   "cell_type": "code",
   "execution_count": 47,
   "id": "663288ea",
   "metadata": {},
   "outputs": [],
   "source": [
    "da=pd.read_csv('NT_data.csv')"
   ]
  },
  {
   "cell_type": "code",
   "execution_count": 48,
   "id": "a3794ffb",
   "metadata": {},
   "outputs": [
    {
     "name": "stdout",
     "output_type": "stream",
     "text": [
      "5      2020-01-23\n",
      "33     2020-03-04\n",
      "47     2020-03-24\n",
      "76     2020-05-05\n",
      "98     2020-06-05\n",
      "116    2020-07-01\n",
      "118    2020-07-06\n",
      "137    2020-07-31\n",
      "151    2020-08-20\n",
      "176    2020-09-25\n",
      "204    2020-11-04\n",
      "216    2020-11-20\n",
      "219    2020-11-25\n",
      "Name: Date, dtype: object\n",
      "-------------\n",
      "4      2020-01-22\n",
      "27     2020-02-25\n",
      "36     2020-03-09\n",
      "70     2020-04-27\n",
      "90     2020-05-26\n",
      "115    2020-06-30\n",
      "117    2020-07-02\n",
      "128    2020-07-20\n",
      "144    2020-08-11\n",
      "164    2020-09-09\n",
      "193    2020-10-20\n",
      "210    2020-11-12\n",
      "217    2020-11-23\n",
      "240    2020-12-28\n",
      "Name: Date, dtype: object\n"
     ]
    }
   ],
   "source": [
    "#sell time\n",
    "dasell=da[da['entry']==2]\n",
    "dasell=pd.DataFrame(dasell)\n",
    "print(dasell['Date'])\n",
    "print('-------------')\n",
    "#buy time\n",
    "dabuy=da[da['entry']==-2]\n",
    "dabuy=pd.DataFrame(dabuy)\n",
    "print(dabuy['Date'])\n"
   ]
  },
  {
   "cell_type": "code",
   "execution_count": 52,
   "id": "84e300ee",
   "metadata": {},
   "outputs": [],
   "source": [
    "#calculate sharpe ratio, and sharpe yearly return\n",
    "\n",
    "#sharpe ratio\n",
    "def calculate_sharp(data):\n",
    "    \n",
    "    avg_return = data.mean()\n",
    "    std_return = data.std()\n",
    "    sharp = avg_return / std_return\n",
    "    sharp_year = sharp * np.sqrt(252)\n",
    "    return sharp, sharp_year\n"
   ]
  },
  {
   "cell_type": "code",
   "execution_count": 53,
   "id": "90dfe56c",
   "metadata": {},
   "outputs": [
    {
     "name": "stdout",
     "output_type": "stream",
     "text": [
      "(0.13004967839435294, 2.064474642692326)\n"
     ]
    }
   ],
   "source": [
    "print(calculate_sharp(df3)) #system_return sharpe"
   ]
  },
  {
   "cell_type": "code",
   "execution_count": 54,
   "id": "e7e288f4",
   "metadata": {},
   "outputs": [
    {
     "name": "stdout",
     "output_type": "stream",
     "text": [
      "(0.06521753932961961, 1.0352963411144855)\n"
     ]
    }
   ],
   "source": [
    "print(calculate_sharp(dfreturn)) #return sharpe"
   ]
  },
  {
   "cell_type": "code",
   "execution_count": 55,
   "id": "6ab84acf",
   "metadata": {},
   "outputs": [],
   "source": [
    "#calculate the maximum drawdown\n",
    "df3=list(df3) #need to turn into list to calculate drawdown\n",
    "def get_max_drawdown_fast(array):\n",
    "    drawdowns = []\n",
    "    max_so_far = array[0]\n",
    "    for i in range(len(array)):\n",
    "        if array[i] > max_so_far:\n",
    "            drawdown = 0\n",
    "            drawdowns.append(drawdown)\n",
    "            max_so_far = array[i]\n",
    "        else:\n",
    "            drawdown = max_so_far - array[i]\n",
    "            drawdowns.append(drawdown)\n",
    "    return max(drawdowns)"
   ]
  },
  {
   "cell_type": "code",
   "execution_count": 56,
   "id": "da729555",
   "metadata": {},
   "outputs": [
    {
     "data": {
      "text/plain": [
       "0.20794177596544988"
      ]
     },
     "execution_count": 56,
     "metadata": {},
     "output_type": "execute_result"
    }
   ],
   "source": [
    "get_max_drawdown_fast(df3)"
   ]
  },
  {
   "cell_type": "code",
   "execution_count": null,
   "id": "cdbbc563",
   "metadata": {},
   "outputs": [],
   "source": []
  }
 ],
 "metadata": {
  "kernelspec": {
   "display_name": "Python 3 (ipykernel)",
   "language": "python",
   "name": "python3"
  },
  "language_info": {
   "codemirror_mode": {
    "name": "ipython",
    "version": 3
   },
   "file_extension": ".py",
   "mimetype": "text/x-python",
   "name": "python",
   "nbconvert_exporter": "python",
   "pygments_lexer": "ipython3",
   "version": "3.9.7"
  }
 },
 "nbformat": 4,
 "nbformat_minor": 5
}
